{
 "cells": [
  {
   "cell_type": "code",
   "execution_count": null,
   "id": "c0b95931",
   "metadata": {},
   "outputs": [],
   "source": [
    "import import_ipynb\n",
    "import scraping_glassdoor_data as gs\n",
    "import pandas as pd\n",
    "\n",
    "path= \"C://Users//HP//OneDrive//Desktop//Adrija//projects//DS salary predcition//chromedriver\"\n",
    "\n",
    "df = gs.get_jobs('data scientist',1000, False, path, 15)\n",
    "\n",
    "df.to_csv('glassdoor_jobs.csv', index = False)"
   ]
  },
  {
   "cell_type": "code",
   "execution_count": null,
   "id": "39c7cd54",
   "metadata": {},
   "outputs": [],
   "source": []
  }
 ],
 "metadata": {
  "kernelspec": {
   "display_name": "Python 3 (ipykernel)",
   "language": "python",
   "name": "python3"
  },
  "language_info": {
   "codemirror_mode": {
    "name": "ipython",
    "version": 3
   },
   "file_extension": ".py",
   "mimetype": "text/x-python",
   "name": "python",
   "nbconvert_exporter": "python",
   "pygments_lexer": "ipython3",
   "version": "3.9.7"
  }
 },
 "nbformat": 4,
 "nbformat_minor": 5
}
